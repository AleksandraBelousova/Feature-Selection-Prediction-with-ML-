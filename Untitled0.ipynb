{
  "nbformat": 4,
  "nbformat_minor": 0,
  "metadata": {
    "colab": {
      "provenance": [],
      "authorship_tag": "ABX9TyMhqCUfnJpZ8JlEqtKWr9yT",
      "include_colab_link": true
    },
    "kernelspec": {
      "name": "python3",
      "display_name": "Python 3"
    },
    "language_info": {
      "name": "python"
    }
  },
  "cells": [
    {
      "cell_type": "markdown",
      "metadata": {
        "id": "view-in-github",
        "colab_type": "text"
      },
      "source": [
        "<a href=\"https://colab.research.google.com/github/AleksandraBelousova/Feature-Selection-Prediction-with-ML-/blob/main/Untitled0.ipynb\" target=\"_parent\"><img src=\"https://colab.research.google.com/assets/colab-badge.svg\" alt=\"Open In Colab\"/></a>"
      ]
    },
    {
      "cell_type": "code",
      "source": [
        "!pip install dask[dataframe]"
      ],
      "metadata": {
        "colab": {
          "base_uri": "https://localhost:8080/"
        },
        "id": "bRFvip_9t0Qi",
        "outputId": "0337e871-a9f0-49f5-ca86-2f338467e2fb"
      },
      "execution_count": 1,
      "outputs": [
        {
          "output_type": "stream",
          "name": "stdout",
          "text": [
            "Requirement already satisfied: dask[dataframe] in /usr/local/lib/python3.11/dist-packages (2024.10.0)\n",
            "Requirement already satisfied: click>=8.1 in /usr/local/lib/python3.11/dist-packages (from dask[dataframe]) (8.1.8)\n",
            "Requirement already satisfied: cloudpickle>=3.0.0 in /usr/local/lib/python3.11/dist-packages (from dask[dataframe]) (3.1.0)\n",
            "Requirement already satisfied: fsspec>=2021.09.0 in /usr/local/lib/python3.11/dist-packages (from dask[dataframe]) (2024.10.0)\n",
            "Requirement already satisfied: packaging>=20.0 in /usr/local/lib/python3.11/dist-packages (from dask[dataframe]) (24.2)\n",
            "Requirement already satisfied: partd>=1.4.0 in /usr/local/lib/python3.11/dist-packages (from dask[dataframe]) (1.4.2)\n",
            "Requirement already satisfied: pyyaml>=5.3.1 in /usr/local/lib/python3.11/dist-packages (from dask[dataframe]) (6.0.2)\n",
            "Requirement already satisfied: toolz>=0.10.0 in /usr/local/lib/python3.11/dist-packages (from dask[dataframe]) (0.12.1)\n",
            "Requirement already satisfied: importlib-metadata>=4.13.0 in /usr/local/lib/python3.11/dist-packages (from dask[dataframe]) (8.5.0)\n",
            "Requirement already satisfied: pandas>=2.0 in /usr/local/lib/python3.11/dist-packages (from dask[dataframe]) (2.2.2)\n",
            "Collecting dask-expr<1.2,>=1.1 (from dask[dataframe])\n",
            "  Downloading dask_expr-1.1.21-py3-none-any.whl.metadata (2.6 kB)\n",
            "INFO: pip is looking at multiple versions of dask-expr to determine which version is compatible with other requirements. This could take a while.\n",
            "  Downloading dask_expr-1.1.20-py3-none-any.whl.metadata (2.6 kB)\n",
            "  Downloading dask_expr-1.1.19-py3-none-any.whl.metadata (2.6 kB)\n",
            "  Downloading dask_expr-1.1.18-py3-none-any.whl.metadata (2.6 kB)\n",
            "  Downloading dask_expr-1.1.16-py3-none-any.whl.metadata (2.5 kB)\n",
            "Requirement already satisfied: pyarrow>=14.0.1 in /usr/local/lib/python3.11/dist-packages (from dask-expr<1.2,>=1.1->dask[dataframe]) (17.0.0)\n",
            "Requirement already satisfied: zipp>=3.20 in /usr/local/lib/python3.11/dist-packages (from importlib-metadata>=4.13.0->dask[dataframe]) (3.21.0)\n",
            "Requirement already satisfied: numpy>=1.23.2 in /usr/local/lib/python3.11/dist-packages (from pandas>=2.0->dask[dataframe]) (1.26.4)\n",
            "Requirement already satisfied: python-dateutil>=2.8.2 in /usr/local/lib/python3.11/dist-packages (from pandas>=2.0->dask[dataframe]) (2.8.2)\n",
            "Requirement already satisfied: pytz>=2020.1 in /usr/local/lib/python3.11/dist-packages (from pandas>=2.0->dask[dataframe]) (2024.2)\n",
            "Requirement already satisfied: tzdata>=2022.7 in /usr/local/lib/python3.11/dist-packages (from pandas>=2.0->dask[dataframe]) (2024.2)\n",
            "Requirement already satisfied: locket in /usr/local/lib/python3.11/dist-packages (from partd>=1.4.0->dask[dataframe]) (1.0.0)\n",
            "Requirement already satisfied: six>=1.5 in /usr/local/lib/python3.11/dist-packages (from python-dateutil>=2.8.2->pandas>=2.0->dask[dataframe]) (1.17.0)\n",
            "Downloading dask_expr-1.1.16-py3-none-any.whl (243 kB)\n",
            "\u001b[2K   \u001b[90m━━━━━━━━━━━━━━━━━━━━━━━━━━━━━━━━━━━━━━━━\u001b[0m \u001b[32m243.2/243.2 kB\u001b[0m \u001b[31m6.8 MB/s\u001b[0m eta \u001b[36m0:00:00\u001b[0m\n",
            "\u001b[?25hInstalling collected packages: dask-expr\n",
            "Successfully installed dask-expr-1.1.16\n"
          ]
        }
      ]
    },
    {
      "cell_type": "code",
      "source": [
        "!gdown \"https://drive.google.com/uc?export=download&id=1Trwt8zbiOuqDSRG5AaAJYKsoGs020uv_\" -O actual.csv\n",
        "!gdown \"https://drive.google.com/uc?export=download&id=1vtkwJoQEv5qrk7yiODeGNnOrPpM-iXBa\" -O data_set_ALL_AML_train.csv\n",
        "!gdown \"https://drive.google.com/uc?export=download&id=1DPBRFS8D0MitjM9lUj_bc1_YIddQR67Z\" -O data_set_ALL_AML_independent.csv"
      ],
      "metadata": {
        "colab": {
          "base_uri": "https://localhost:8080/"
        },
        "id": "LZV-gHIbFAXI",
        "outputId": "4480a0a2-86cb-4103-fc17-2a0a42a38c7f"
      },
      "execution_count": 3,
      "outputs": [
        {
          "output_type": "stream",
          "name": "stdout",
          "text": [
            "Downloading...\n",
            "From: https://drive.google.com/uc?export=download&id=1Trwt8zbiOuqDSRG5AaAJYKsoGs020uv_\n",
            "To: /content/actual.csv\n",
            "100% 511/511 [00:00<00:00, 1.62MB/s]\n",
            "Downloading...\n",
            "From: https://drive.google.com/uc?export=download&id=1vtkwJoQEv5qrk7yiODeGNnOrPpM-iXBa\n",
            "To: /content/data_set_ALL_AML_train.csv\n",
            "100% 2.04M/2.04M [00:00<00:00, 31.5MB/s]\n",
            "Downloading...\n",
            "From: https://drive.google.com/uc?export=download&id=1DPBRFS8D0MitjM9lUj_bc1_YIddQR67Z\n",
            "To: /content/data_set_ALL_AML_independent.csv\n",
            "100% 1.86M/1.86M [00:00<00:00, 20.2MB/s]\n"
          ]
        }
      ]
    },
    {
      "cell_type": "code",
      "source": [
        "for df, name in zip([actual_df, train_df, test_df], ['Actual', 'Train', 'Test']):\n",
        "    print(f\"{name} DataFrame Info:\")\n",
        "    df.info()\n",
        "    print(\"\\n\")"
      ],
      "metadata": {
        "colab": {
          "base_uri": "https://localhost:8080/"
        },
        "id": "SVkLT5MkJabF",
        "outputId": "5d845ef2-5b6b-4a70-f190-dee310f3f59d"
      },
      "execution_count": 5,
      "outputs": [
        {
          "output_type": "stream",
          "name": "stdout",
          "text": [
            "Actual DataFrame Info:\n",
            "<class 'pandas.core.frame.DataFrame'>\n",
            "RangeIndex: 72 entries, 0 to 71\n",
            "Data columns (total 2 columns):\n",
            " #   Column   Non-Null Count  Dtype \n",
            "---  ------   --------------  ----- \n",
            " 0   patient  72 non-null     int64 \n",
            " 1   cancer   72 non-null     object\n",
            "dtypes: int64(1), object(1)\n",
            "memory usage: 1.3+ KB\n",
            "\n",
            "\n",
            "Train DataFrame Info:\n",
            "<class 'pandas.core.frame.DataFrame'>\n",
            "RangeIndex: 7129 entries, 0 to 7128\n",
            "Data columns (total 78 columns):\n",
            " #   Column                 Non-Null Count  Dtype \n",
            "---  ------                 --------------  ----- \n",
            " 0   Gene Description       7129 non-null   object\n",
            " 1   Gene Accession Number  7129 non-null   object\n",
            " 2   1                      7129 non-null   int64 \n",
            " 3   call                   7129 non-null   object\n",
            " 4   2                      7129 non-null   int64 \n",
            " 5   call.1                 7129 non-null   object\n",
            " 6   3                      7129 non-null   int64 \n",
            " 7   call.2                 7129 non-null   object\n",
            " 8   4                      7129 non-null   int64 \n",
            " 9   call.3                 7129 non-null   object\n",
            " 10  5                      7129 non-null   int64 \n",
            " 11  call.4                 7129 non-null   object\n",
            " 12  6                      7129 non-null   int64 \n",
            " 13  call.5                 7129 non-null   object\n",
            " 14  7                      7129 non-null   int64 \n",
            " 15  call.6                 7129 non-null   object\n",
            " 16  8                      7129 non-null   int64 \n",
            " 17  call.7                 7129 non-null   object\n",
            " 18  9                      7129 non-null   int64 \n",
            " 19  call.8                 7129 non-null   object\n",
            " 20  10                     7129 non-null   int64 \n",
            " 21  call.9                 7129 non-null   object\n",
            " 22  11                     7129 non-null   int64 \n",
            " 23  call.10                7129 non-null   object\n",
            " 24  12                     7129 non-null   int64 \n",
            " 25  call.11                7129 non-null   object\n",
            " 26  13                     7129 non-null   int64 \n",
            " 27  call.12                7129 non-null   object\n",
            " 28  14                     7129 non-null   int64 \n",
            " 29  call.13                7129 non-null   object\n",
            " 30  15                     7129 non-null   int64 \n",
            " 31  call.14                7129 non-null   object\n",
            " 32  16                     7129 non-null   int64 \n",
            " 33  call.15                7129 non-null   object\n",
            " 34  17                     7129 non-null   int64 \n",
            " 35  call.16                7129 non-null   object\n",
            " 36  18                     7129 non-null   int64 \n",
            " 37  call.17                7129 non-null   object\n",
            " 38  19                     7129 non-null   int64 \n",
            " 39  call.18                7129 non-null   object\n",
            " 40  20                     7129 non-null   int64 \n",
            " 41  call.19                7129 non-null   object\n",
            " 42  21                     7129 non-null   int64 \n",
            " 43  call.20                7129 non-null   object\n",
            " 44  22                     7129 non-null   int64 \n",
            " 45  call.21                7129 non-null   object\n",
            " 46  23                     7129 non-null   int64 \n",
            " 47  call.22                7129 non-null   object\n",
            " 48  24                     7129 non-null   int64 \n",
            " 49  call.23                7129 non-null   object\n",
            " 50  25                     7129 non-null   int64 \n",
            " 51  call.24                7129 non-null   object\n",
            " 52  26                     7129 non-null   int64 \n",
            " 53  call.25                7129 non-null   object\n",
            " 54  27                     7129 non-null   int64 \n",
            " 55  call.26                7129 non-null   object\n",
            " 56  34                     7129 non-null   int64 \n",
            " 57  call.27                7129 non-null   object\n",
            " 58  35                     7129 non-null   int64 \n",
            " 59  call.28                7129 non-null   object\n",
            " 60  36                     7129 non-null   int64 \n",
            " 61  call.29                7129 non-null   object\n",
            " 62  37                     7129 non-null   int64 \n",
            " 63  call.30                7129 non-null   object\n",
            " 64  38                     7129 non-null   int64 \n",
            " 65  call.31                7129 non-null   object\n",
            " 66  28                     7129 non-null   int64 \n",
            " 67  call.32                7129 non-null   object\n",
            " 68  29                     7129 non-null   int64 \n",
            " 69  call.33                7129 non-null   object\n",
            " 70  30                     7129 non-null   int64 \n",
            " 71  call.34                7129 non-null   object\n",
            " 72  31                     7129 non-null   int64 \n",
            " 73  call.35                7129 non-null   object\n",
            " 74  32                     7129 non-null   int64 \n",
            " 75  call.36                7129 non-null   object\n",
            " 76  33                     7129 non-null   int64 \n",
            " 77  call.37                7129 non-null   object\n",
            "dtypes: int64(38), object(40)\n",
            "memory usage: 4.2+ MB\n",
            "\n",
            "\n",
            "Test DataFrame Info:\n",
            "<class 'pandas.core.frame.DataFrame'>\n",
            "RangeIndex: 7129 entries, 0 to 7128\n",
            "Data columns (total 70 columns):\n",
            " #   Column                 Non-Null Count  Dtype \n",
            "---  ------                 --------------  ----- \n",
            " 0   Gene Description       7129 non-null   object\n",
            " 1   Gene Accession Number  7129 non-null   object\n",
            " 2   39                     7129 non-null   int64 \n",
            " 3   call                   7129 non-null   object\n",
            " 4   40                     7129 non-null   int64 \n",
            " 5   call.1                 7129 non-null   object\n",
            " 6   42                     7129 non-null   int64 \n",
            " 7   call.2                 7129 non-null   object\n",
            " 8   47                     7129 non-null   int64 \n",
            " 9   call.3                 7129 non-null   object\n",
            " 10  48                     7129 non-null   int64 \n",
            " 11  call.4                 7129 non-null   object\n",
            " 12  49                     7129 non-null   int64 \n",
            " 13  call.5                 7129 non-null   object\n",
            " 14  41                     7129 non-null   int64 \n",
            " 15  call.6                 7129 non-null   object\n",
            " 16  43                     7129 non-null   int64 \n",
            " 17  call.7                 7129 non-null   object\n",
            " 18  44                     7129 non-null   int64 \n",
            " 19  call.8                 7129 non-null   object\n",
            " 20  45                     7129 non-null   int64 \n",
            " 21  call.9                 7129 non-null   object\n",
            " 22  46                     7129 non-null   int64 \n",
            " 23  call.10                7129 non-null   object\n",
            " 24  70                     7129 non-null   int64 \n",
            " 25  call.11                7129 non-null   object\n",
            " 26  71                     7129 non-null   int64 \n",
            " 27  call.12                7129 non-null   object\n",
            " 28  72                     7129 non-null   int64 \n",
            " 29  call.13                7129 non-null   object\n",
            " 30  68                     7129 non-null   int64 \n",
            " 31  call.14                7129 non-null   object\n",
            " 32  69                     7129 non-null   int64 \n",
            " 33  call.15                7129 non-null   object\n",
            " 34  67                     7129 non-null   int64 \n",
            " 35  call.16                7129 non-null   object\n",
            " 36  55                     7129 non-null   int64 \n",
            " 37  call.17                7129 non-null   object\n",
            " 38  56                     7129 non-null   int64 \n",
            " 39  call.18                7129 non-null   object\n",
            " 40  59                     7129 non-null   int64 \n",
            " 41  call.19                7129 non-null   object\n",
            " 42  52                     7129 non-null   int64 \n",
            " 43  call.20                7129 non-null   object\n",
            " 44  53                     7129 non-null   int64 \n",
            " 45  call.21                7129 non-null   object\n",
            " 46  51                     7129 non-null   int64 \n",
            " 47  call.22                7129 non-null   object\n",
            " 48  50                     7129 non-null   int64 \n",
            " 49  call.23                7129 non-null   object\n",
            " 50  54                     7129 non-null   int64 \n",
            " 51  call.24                7129 non-null   object\n",
            " 52  57                     7129 non-null   int64 \n",
            " 53  call.25                7129 non-null   object\n",
            " 54  58                     7129 non-null   int64 \n",
            " 55  call.26                7129 non-null   object\n",
            " 56  60                     7129 non-null   int64 \n",
            " 57  call.27                7129 non-null   object\n",
            " 58  61                     7129 non-null   int64 \n",
            " 59  call.28                7129 non-null   object\n",
            " 60  65                     7129 non-null   int64 \n",
            " 61  call.29                7129 non-null   object\n",
            " 62  66                     7129 non-null   int64 \n",
            " 63  call.30                7129 non-null   object\n",
            " 64  63                     7129 non-null   int64 \n",
            " 65  call.31                7129 non-null   object\n",
            " 66  64                     7129 non-null   int64 \n",
            " 67  call.32                7129 non-null   object\n",
            " 68  62                     7129 non-null   int64 \n",
            " 69  call.33                7129 non-null   object\n",
            "dtypes: int64(34), object(36)\n",
            "memory usage: 3.8+ MB\n",
            "\n",
            "\n"
          ]
        }
      ]
    },
    {
      "cell_type": "code",
      "source": [
        "train_data = pd.read_csv('data_set_ALL_AML_train.csv')\n",
        "test_data = pd.read_csv('data_set_ALL_AML_independent.csv')\n",
        "actual_data = pd.read_csv('actual.csv')\n",
        "\n",
        "def get_meta_columns(df):\n",
        "    return ['Gene Description', 'Gene Accession Number'] + [col for col in df.columns if 'call' in col]\n",
        "\n",
        "# Clean and transpose train and test datasets\n",
        "def clean_and_transpose(df, meta_cols):\n",
        "    df_clean = df.drop(columns=meta_cols).transpose()\n",
        "    df_clean.columns = df_clean.iloc[0]\n",
        "    df_clean = df_clean.drop(df_clean.index[0])\n",
        "    df_clean.index = df_clean.index.astype(int)\n",
        "    return df_clean.apply(pd.to_numeric, errors='coerce')\n",
        "\n",
        "train_data_clean = clean_and_transpose(train_data, get_meta_columns(train_data))\n",
        "test_data_clean = clean_and_transpose(test_data, get_meta_columns(test_data))\n",
        "\n",
        "train_data_clean['patient'] = train_data_clean.index\n",
        "train_data_merged = pd.merge(train_data_clean, actual_data, on='patient').drop(columns='patient')"
      ],
      "metadata": {
        "id": "4RnfQqq-bcky"
      },
      "execution_count": 6,
      "outputs": []
    },
    {
      "cell_type": "code",
      "source": [
        "label_encoder = LabelEncoder()\n",
        "train_data_merged['cancer_encoded'] = label_encoder.fit_transform(train_data_merged['cancer'])\n",
        "\n",
        "X = train_data_merged.drop(columns=['cancer', 'cancer_encoded'])\n",
        "y = train_data_merged['cancer_encoded']\n",
        "\n",
        "X_train, X_val, y_train, y_val = train_test_split(X, y, test_size=0.2, random_state=42)\n",
        "\n",
        "model = RandomForestClassifier(n_estimators=100, random_state=42)\n",
        "model.fit(X_train, y_train)\n",
        "\n",
        "y_pred = model.predict(X_val)\n",
        "\n",
        "print(f\"Accuracy: {accuracy_score(y_val, y_pred):.2f}\")\n",
        "print(\"Classification Report:\\n\", classification_report(y_val, y_pred))\n",
        "print(\"Confusion Matrix:\\n\", confusion_matrix(y_val, y_pred))"
      ],
      "metadata": {
        "colab": {
          "base_uri": "https://localhost:8080/"
        },
        "id": "0rpa8YHeTyks",
        "outputId": "a127fef2-2aee-407d-aab3-4e52acb7a17b"
      },
      "execution_count": 7,
      "outputs": [
        {
          "output_type": "stream",
          "name": "stdout",
          "text": [
            "Accuracy: 0.88\n",
            "Classification Report:\n",
            "               precision    recall  f1-score   support\n",
            "\n",
            "           0       0.83      1.00      0.91         5\n",
            "           1       1.00      0.67      0.80         3\n",
            "\n",
            "    accuracy                           0.88         8\n",
            "   macro avg       0.92      0.83      0.85         8\n",
            "weighted avg       0.90      0.88      0.87         8\n",
            "\n",
            "Confusion Matrix:\n",
            " [[5 0]\n",
            " [1 2]]\n"
          ]
        }
      ]
    },
    {
      "cell_type": "code",
      "source": [
        "from sklearn.ensemble import GradientBoostingClassifier\n",
        "from sklearn.model_selection import GridSearchCV\n",
        "\n",
        "gbc = GradientBoostingClassifier(random_state=42)\n",
        "param_grid = {\n",
        "    'n_estimators': [100, 200],\n",
        "    'max_depth': [3, 5],\n",
        "    'learning_rate': [0.01, 0.1]\n",
        "}\n",
        "grid_search = GridSearchCV(\n",
        "    estimator=gbc,\n",
        "    param_grid=param_grid,\n",
        "    cv=3,\n",
        "    scoring='accuracy',\n",
        "    n_jobs=-1\n",
        ")\n",
        "grid_search.fit(X_train, y_train)\n",
        "print(\"Best Hyperparameters:\", grid_search.best_params_)\n",
        "best_model = grid_search.best_estimator_\n",
        "y_pred = best_model.predict(X_val)\n",
        "print(f\"Accuracy with Gradient Boosting: {accuracy_score(y_val, y_pred):.2f}\")\n",
        "print(\"Classification Report:\\n\", classification_report(y_val, y_pred))"
      ],
      "metadata": {
        "colab": {
          "base_uri": "https://localhost:8080/"
        },
        "id": "s24ouh3-Ve8u",
        "outputId": "927f6048-b891-4f7c-90a3-8876f7915e8f"
      },
      "execution_count": 8,
      "outputs": [
        {
          "output_type": "stream",
          "name": "stdout",
          "text": [
            "Best Hyperparameters: {'learning_rate': 0.01, 'max_depth': 3, 'n_estimators': 200}\n",
            "Accuracy with Gradient Boosting: 0.75\n",
            "Classification Report:\n",
            "               precision    recall  f1-score   support\n",
            "\n",
            "           0       0.71      1.00      0.83         5\n",
            "           1       1.00      0.33      0.50         3\n",
            "\n",
            "    accuracy                           0.75         8\n",
            "   macro avg       0.86      0.67      0.67         8\n",
            "weighted avg       0.82      0.75      0.71         8\n",
            "\n"
          ]
        }
      ]
    },
    {
      "cell_type": "code",
      "source": [
        "from sklearn.decomposition import PCA\n",
        "# Apply PCA to reduce dimensionality while preserving 95% of the variance\n",
        "pca = PCA(n_components=0.95, random_state=42)\n",
        "X_train_pca = pca.fit_transform(X_train)\n",
        "X_val_pca = pca.transform(X_val)\n",
        "X_test = test_data_clean\n",
        "X_test_pca = pca.transform(X_test)\n",
        "best_model.fit(X_train_pca, y_train)\n",
        "y_pred_pca = best_model.predict(X_val_pca)\n",
        "print(f\"Accuracy with PCA and Gradient Boosting: {accuracy_score(y_val, y_pred_pca):.2f}\")\n",
        "print(\"Classification Report with PCA:\\n\", classification_report(y_val, y_pred_pca))\n",
        "test_predictions_pca = best_model.predict(X_test_pca)\n",
        "print(\"Test Predictions with PCA:\\n\", label_encoder.inverse_transform(test_predictions_pca))"
      ],
      "metadata": {
        "colab": {
          "base_uri": "https://localhost:8080/"
        },
        "id": "nS-yRCzGXUsj",
        "outputId": "403cc5cc-0539-4810-a8a1-71ede2827536"
      },
      "execution_count": 9,
      "outputs": [
        {
          "output_type": "stream",
          "name": "stdout",
          "text": [
            "Accuracy with PCA and Gradient Boosting: 0.88\n",
            "Classification Report with PCA:\n",
            "               precision    recall  f1-score   support\n",
            "\n",
            "           0       0.83      1.00      0.91         5\n",
            "           1       1.00      0.67      0.80         3\n",
            "\n",
            "    accuracy                           0.88         8\n",
            "   macro avg       0.92      0.83      0.85         8\n",
            "weighted avg       0.90      0.88      0.87         8\n",
            "\n",
            "Test Predictions with PCA:\n",
            " ['ALL' 'ALL' 'ALL' 'ALL' 'ALL' 'ALL' 'AML' 'ALL' 'ALL' 'AML' 'ALL' 'ALL'\n",
            " 'ALL' 'ALL' 'ALL' 'AML' 'AML' 'AML' 'AML' 'AML' 'AML' 'AML' 'AML' 'ALL'\n",
            " 'AML' 'AML' 'AML' 'AML' 'AML' 'ALL' 'AML' 'ALL' 'AML']\n"
          ]
        }
      ]
    },
    {
      "cell_type": "code",
      "source": [
        "pca = PCA(n_components=2, random_state=42)\n",
        "X_pca = pca.fit_transform(X)\n",
        "\n",
        "pca_df = pd.DataFrame(data=X_pca, columns=['PC1', 'PC2'])\n",
        "pca_df['Label'] = y\n",
        "\n",
        "plt.figure(figsize=(10, 8))\n",
        "sns.scatterplot(x='PC1', y='PC2', hue='Label', data=pca_df, palette='viridis', alpha=0.7)\n",
        "plt.title('PCA of Gene Expression Data')\n",
        "plt.xlabel('Principal Component 1')\n",
        "plt.ylabel('Principal Component 2')\n",
        "plt.legend(title='Cancer Type')\n",
        "plt.show()"
      ],
      "metadata": {
        "id": "QQw9n3TpWRpb",
        "colab": {
          "base_uri": "https://localhost:8080/",
          "height": 732
        },
        "outputId": "90227c76-9ef9-42cf-d2ca-8f59b1c3cf23"
      },
      "execution_count": 10,
      "outputs": [
        {
          "output_type": "display_data",
          "data": {
            "text/plain": [
              "<Figure size 1000x800 with 1 Axes>"
            ],
            "image/png": "[encoded data removed]"
          },
          "metadata": {}
        }
      ]
    },
    {
      "cell_type": "markdown",
      "source": [
        "upscale"
      ],
      "metadata": {
        "id": "Yn5xGp5C-paC"
      }
    },
    {
      "cell_type": "code",
      "source": [
        "!pip install lasso"
      ],
      "metadata": {
        "colab": {
          "base_uri": "https://localhost:8080/"
        },
        "id": "_i6n_rfUs8vW",
        "outputId": "73a118e5-6275-4506-8611-d6487ec9c284"
      },
      "execution_count": 13,
      "outputs": [
        {
          "output_type": "stream",
          "name": "stdout",
          "text": [
            "Collecting lasso\n",
            "  Downloading lasso-0.1.0-py3-none-any.whl.metadata (533 bytes)\n",
            "Downloading lasso-0.1.0-py3-none-any.whl (1.3 kB)\n",
            "Installing collected packages: lasso\n",
            "Successfully installed lasso-0.1.0\n"
          ]
        }
      ]
    },
    {
      "cell_type": "code",
      "source": [
        "from sklearn.linear_model import LassoCV\n",
        "from sklearn.metrics import mean_squared_error, r2_score\n",
        "lasso = LassoCV(cv=5, random_state=42)"
      ],
      "metadata": {
        "id": "hGb5lKGf-Kom"
      },
      "execution_count": 15,
      "outputs": []
    },
    {
      "cell_type": "code",
      "source": [
        "lasso.fit(X_train, y_train)\n",
        "selected_features_lasso = X_train.columns[(lasso.coef_ != 0)]\n",
        "print(\"LASSO: \", selected_features_lasso)"
      ],
      "metadata": {
        "colab": {
          "base_uri": "https://localhost:8080/"
        },
        "id": "ofiBlO-a-OBB",
        "outputId": "c96d7108-9641-45e1-d276-5d8542f1f8a0"
      },
      "execution_count": 16,
      "outputs": [
        {
          "output_type": "stream",
          "name": "stdout",
          "text": [
            "LASSO:  Index([15091,  8529, 18727,  7819,  4801,  2654, 15962,   741,  3221,  3079,\n",
            "       14223,    56,   670,  1489,   782,  1298,  2534,   749,   177,  3989,\n",
            "        5017,  3215, 14552,  9144, 31086, 17602, 16528, 21909,   153,  8418,\n",
            "        8421, 14339, 13537],\n",
            "      dtype='object')\n"
          ]
        },
        {
          "output_type": "stream",
          "name": "stderr",
          "text": [
            "/usr/local/lib/python3.11/dist-packages/sklearn/linear_model/_coordinate_descent.py:695: ConvergenceWarning: Objective did not converge. You might want to increase the number of iterations, check the scale of the features or consider increasing regularisation. Duality gap: 2.657e-03, tolerance: 5.793e-04\n",
            "  model = cd_fast.enet_coordinate_descent(\n"
          ]
        }
      ]
    },
    {
      "cell_type": "code",
      "source": [
        "from sklearn.feature_selection import RFE\n",
        "from sklearn.ensemble import GradientBoostingClassifier\n",
        "model = GradientBoostingClassifier(random_state=42)\n",
        "rfe = RFE(estimator=model, n_features_to_select=10, step=1)"
      ],
      "metadata": {
        "id": "9zr92cxS-RzE"
      },
      "execution_count": 17,
      "outputs": []
    },
    {
      "cell_type": "code",
      "source": [
        "from sklearn.linear_model import LogisticRegression\n",
        "rfe = RFE(estimator=LogisticRegression(),n_features_to_select=10)"
      ],
      "metadata": {
        "id": "PvMFj81e070W"
      },
      "execution_count": 29,
      "outputs": []
    },
    {
      "cell_type": "code",
      "source": [
        "rfe = RFE(estimator=LogisticRegression(), n_features_to_select=10, step=1)\n",
        "rfe.fit(X_train, y_train)\n",
        "\n",
        "selected_features_rfe = X_train.columns[rfe.support_]\n",
        "print(\"RFE Selected Features:\", selected_features_rfe)\n",
        "\n",
        "X_train_selected = X_train[selected_features_rfe]\n",
        "X_train_sel, X_val_sel, y_train_sel, y_val_sel = train_test_split(X_train_selected, y_train, test_size=0.2, random_state=42)\n",
        "\n",
        "model = LogisticRegression()\n",
        "model.fit(X_train_sel, y_train_sel)\n",
        "y_pred = model.predict(X_val_sel)\n",
        "\n",
        "print(f\"Accuracy: {accuracy_score(y_val_sel, y_pred):.2f}\")\n",
        "print(\"Classification Report:\\n\", classification_report(y_val_sel, y_pred))"
      ],
      "metadata": {
        "colab": {
          "base_uri": "https://localhost:8080/"
        },
        "id": "KkkJGS-c-AFS",
        "outputId": "07174947-2646-4d3d-d542-29f8f824f9ec"
      },
      "execution_count": 31,
      "outputs": [
        {
          "output_type": "stream",
          "name": "stdout",
          "text": [
            "RFE Selected Features: Index([2654, 56, 303, 15119, 4243, 177, 7546, 14552, 333, 15009], dtype='object')\n",
            "Accuracy: 1.00\n",
            "Classification Report:\n",
            "               precision    recall  f1-score   support\n",
            "\n",
            "           0       1.00      1.00      1.00         4\n",
            "           1       1.00      1.00      1.00         2\n",
            "\n",
            "    accuracy                           1.00         6\n",
            "   macro avg       1.00      1.00      1.00         6\n",
            "weighted avg       1.00      1.00      1.00         6\n",
            "\n"
          ]
        }
      ]
    }
  ]
}